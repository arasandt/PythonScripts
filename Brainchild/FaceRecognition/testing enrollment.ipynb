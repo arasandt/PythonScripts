{
 "cells": [
  {
   "cell_type": "code",
   "execution_count": 53,
   "metadata": {},
   "outputs": [],
   "source": [
    "import os\n",
    "import cv2\n",
    "from mtcnn.mtcnn import MTCNN\n",
    "from glob import iglob\n",
    "import shutil\n",
    "\n",
    "enroll_folder = 'person'    \n",
    "final_folder = 'person_processed'\n",
    "\n",
    "ffolders = [name for name in os.listdir(final_folder)]\n",
    "efolders = [name for name in os.listdir(enroll_folder) if name not in ffolders]\n",
    "\n",
    "def expand_bb(bb, shp, percentage=0.25):\n",
    "    \n",
    "    wpadding = int(bb[3] * percentage) # 25% increase\n",
    "    hpadding = int(bb[2] * percentage)\n",
    "\n",
    "    det = [0,0,0,0]\n",
    "    det[0] = max(bb[0] - wpadding, 0)\n",
    "    det[1] = max(bb[1] - hpadding,0)\n",
    "    det[2] = min(bb[2] + bb[0] + wpadding,shp[1])\n",
    "    det[3] = min(bb[3] + bb[1] + hpadding,shp[0])\n",
    "    \n",
    "    return det"
   ]
  },
  {
   "cell_type": "code",
   "execution_count": 54,
   "metadata": {},
   "outputs": [
    {
     "name": "stdout",
     "output_type": "stream",
     "text": [
      "Enroll Complete. Please re-train..\n"
     ]
    }
   ],
   "source": [
    "if efolders:\n",
    "    detector = MTCNN()\n",
    "    #print(efolders)\n",
    "    for f in efolders:\n",
    "        for filename in iglob(os.path.join(enroll_folder, f,'*.jpg'),recursive=False):\n",
    "            #print(filename)\n",
    "            im = cv2.imread(filename)\n",
    "            box = detector.detect_faces(im)\n",
    "            box = [i for i in box if i['confidence'] >= 0.9 ]\n",
    "            bb = box[0]['box']\n",
    "            det = expand_bb(bb, [9999,9999], 0)\n",
    "            cv2.imwrite(filename + '_mtcnn',im[det[1]:det[3], det[0]:det[2]].copy())\n",
    "            \n",
    "\n",
    "    for f in efolders:\n",
    "        #shutil.copytree(os.path.join(os.getcwd(),enroll_folder,f), os.path.join(os.getcwd(),final_folder,f))\n",
    "        shutil.move(os.path.join(enroll_folder,f), os.path.join(final_folder,f))\n",
    "    #print(ffolders)\n",
    "    #from mtcnn.mtcnn import MTCNN\n",
    "    #detector = MTCNN()\n",
    "\n",
    "    print('Enroll Complete. Please re-train..')\n",
    "else:\n",
    "    print('No new enrollment found..')"
   ]
  },
  {
   "cell_type": "code",
   "execution_count": null,
   "metadata": {},
   "outputs": [],
   "source": []
  }
 ],
 "metadata": {
  "kernelspec": {
   "display_name": "Python 3",
   "language": "python",
   "name": "python3"
  },
  "language_info": {
   "codemirror_mode": {
    "name": "ipython",
    "version": 3
   },
   "file_extension": ".py",
   "mimetype": "text/x-python",
   "name": "python",
   "nbconvert_exporter": "python",
   "pygments_lexer": "ipython3",
   "version": "3.6.8"
  }
 },
 "nbformat": 4,
 "nbformat_minor": 2
}
