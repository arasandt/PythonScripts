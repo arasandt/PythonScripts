{
 "cells": [
  {
   "cell_type": "code",
   "execution_count": 562,
   "metadata": {},
   "outputs": [],
   "source": [
    "import numpy as np\n",
    "import cv2\n",
    "\n",
    "cap = cv2.VideoCapture(\"D:\\\\Arasan\\\\Misc\\\\GitHub\\\\VideoCapture\\\\Met1MDFInside.mp4\")\n",
    "frame_width = int(cap.get(3))\n",
    "frame_height = int(cap.get(4))\n",
    "frame_rate = int(cap.get(cv2.CAP_PROP_FPS))\n",
    "length = int(cap.get(cv2.CAP_PROP_FRAME_COUNT))\n",
    "# Define the codec and create VideoWriter object.The output is stored in 'outpy.avi' file.\n",
    "out = cv2.VideoWriter(\"outpy.avi\",cv2.VideoWriter_fourcc(*'XVID'), frame_rate, (frame_width * 2,frame_height))"
   ]
  },
  {
   "cell_type": "code",
   "execution_count": 563,
   "metadata": {},
   "outputs": [],
   "source": [
    "fgbg = cv2.bgsegm.createBackgroundSubtractorMOG()\n",
    "#fgbg = cv2.bgsegm.createBackgroundSubtractorMOG(history=35)#, nmixtures=5, backgroundRatio=0.7) #,noiseSigma=0)\n",
    "#fgbg1 = cv2.bgsegm.createBackgroundSubtractorMOG(history=200,nmixtures=5,backgroundRatio=0.1,noiseSigma=0)\n",
    "#kernel = cv2.getStructuringElement(cv2.MORPH_ELLIPSE,(3,3))\n",
    "#fgbg1 = cv2.bgsegm.createBackgroundSubtractorGMG()"
   ]
  },
  {
   "cell_type": "code",
   "execution_count": 564,
   "metadata": {},
   "outputs": [],
   "source": [
    "while(1):\n",
    "    ret, frame = cap.read()\n",
    "    if ret == False: break\n",
    "    orig_frame = frame.copy()\n",
    "    frame = cv2.cvtColor(frame, cv2.COLOR_BGR2GRAY) \n",
    "    frame = cv2.GaussianBlur(frame, (21, 21), 0) # will depend on the resolution of the image\n",
    "    #kernel = np.ones((5,5),np.uint8)\n",
    "    #frame = cv2.erode(frame,kernel,iterations = 1)\n",
    "    fgmask = fgbg.apply(frame, learningRate=0.1)\n",
    "    #fgmask1 = fgbg1.apply(frame)\n",
    "    #fgmask1 = cv2.morphologyEx(fgmask1, cv2.MORPH_OPEN, kernel)\n",
    "    #cv2.imshow('frame', fgmask)\n",
    "    #cv2.imshow('ori_frame', orig_frame)\n",
    "    vis = np.concatenate((cv2.cvtColor(orig_frame, cv2.COLOR_BGR2GRAY) , fgmask), axis=1)\n",
    "    vis = cv2.cvtColor(vis, cv2.COLOR_GRAY2BGR)\n",
    "    cv2.imshow('frame', vis)\n",
    "    #out.write(vis)\n",
    "    if cv2.waitKey(1) & 0xFF == ord('q'):\n",
    "        break\n",
    "cap.release()\n",
    "out.release()\n",
    "cv2.destroyAllWindows()"
   ]
  },
  {
   "cell_type": "code",
   "execution_count": 277,
   "metadata": {},
   "outputs": [],
   "source": []
  },
  {
   "cell_type": "code",
   "execution_count": 124,
   "metadata": {},
   "outputs": [],
   "source": []
  },
  {
   "cell_type": "code",
   "execution_count": null,
   "metadata": {},
   "outputs": [],
   "source": []
  }
 ],
 "metadata": {
  "kernelspec": {
   "display_name": "Python 3",
   "language": "python",
   "name": "python3"
  },
  "language_info": {
   "codemirror_mode": {
    "name": "ipython",
    "version": 3
   },
   "file_extension": ".py",
   "mimetype": "text/x-python",
   "name": "python",
   "nbconvert_exporter": "python",
   "pygments_lexer": "ipython3",
   "version": "3.5.5"
  }
 },
 "nbformat": 4,
 "nbformat_minor": 2
}
