{
 "cells": [
  {
   "cell_type": "code",
   "execution_count": null,
   "id": "88be8156",
   "metadata": {
    "scrolled": true
   },
   "outputs": [],
   "source": [
    "import pandas as pd\n",
    "data = {\n",
    "'fnc12410e1qa02': [{'Storage Blob Data Contributor': 'sa12410e1qa04'}, {'Azure Service Bus Data Owner': 'sb12410e1qa02'}, {'Azure Service Bus Data Sender': 'sb12410e1qa03'}], \n",
    "'fjs12410e1qa05': [{'Azure Service Bus Data Owner': 'sb12410e1qa03'}, {'Storage Blob Data Reader': 'RG_12410_Pets_QA'}], \n",
    "'fjs12410e1qa06': [{'Azure Service Bus Data Owner': 'sb12410e1qa04'}], \n",
    "'fnc12410e1qa04': [{'Storage Blob Data Owner': 'sa12410e1qa04'}, {'Azure Service Bus Data Owner': 'sb12410e1qa02'}, {'Azure Service Bus Data Sender': 'sb12410e1qa03'}, {'Azure Service Bus Data Sender': 'sb12410e1qa04'}], \n",
    "'fjs12410e1qa03': [{'Azure Service Bus Data Sender': 'sb12410e1qa02'}, {'Storage Blob Data Owner': 'sa12410e1qa04'}, {'Azure Service Bus Data Sender': 'sb12410e1qa04'}], \n",
    "'fnc12410e1qa01': [{'Storage Blob Data Owner': 'sa12410e1qa02'}, {'Storage Blob Data Contributor': 'sa12410e1qa06'}, {'Azure Service Bus Data Owner': 'sb12410e1qa01'}, {'Azure Service Bus Data Sender': 'sb12410e1qa03'}, {'Azure Service Bus Data Receiver': 'RG_12410_Pets_QA'}], \n",
    "'wba12410e1qa11': [{'Storage Blob Data Owner': 'sa12410e1qa05'}, {'Storage Blob Data Owner': 'sa12544e1qa01'}, {'Storage Blob Data Contributor': 'sa12410e1qa06'}, {'Azure Service Bus Data Sender': 'sb12410e1qa03'}], \n",
    "'wba12410e1qa12': [{'Storage Blob Data Contributor': 'sa12410e1qa06'}, {'Azure Service Bus Data Sender': 'sb12410e1qa03'}], \n",
    "'wba12410e1qa13': [{'Storage Blob Data Owner': 'sa12410e1qa05'}, {'Storage Blob Data Owner': 'sa12544e1qa01'}, {'Storage Blob Data Contributor': 'sa12410e1qa06'}, {'Azure Service Bus Data Sender': 'sb12410e1qa03'}], \n",
    "'wba12410e1qa14': [{'Storage Blob Data Owner': 'sa12410e1qa04'}, {'Storage Blob Data Contributor': 'sa12410e1qa06'}, {'Azure Service Bus Data Sender': 'sb12410e1qa03'}, {'Azure Service Bus Data Sender': 'sb12410e1qa04'}], \n",
    "'wba12410e1qa15': [{'Storage Blob Data Owner': 'sa12410e1qa04'}, {'Storage Blob Data Owner': 'sa12544e1qa01'}, {'Storage Blob Data Contributor': 'sa12410e1qa05'}, {'Storage Blob Data Contributor': 'sa12410e1qa06'}, {'Azure Service Bus Data Sender': 'sb12410e1qa02'}, {'Azure Service Bus Data Sender': 'sb12410e1qa03'}], \n",
    "'wba12410e1qa16': [{'Storage Blob Data Contributor': 'sa12410e1qa06'}, {'Azure Service Bus Data Sender': 'sb12410e1qa03'}], \n",
    "'wba12410e1qa17': [], \n",
    "'SPAZDO12410PETMIGQA': [{'DevOpsPaaSDeploy': 'RG_12410_Pets_QA'}]\n",
    "}\n",
    "data"
   ]
  },
  {
   "cell_type": "code",
   "execution_count": null,
   "id": "64864d29",
   "metadata": {},
   "outputs": [],
   "source": [
    "def create_table(rows):\n",
    "    temp_dict = {}\n",
    "    for i,r in enumerate(rows):\n",
    "        temp_dict[i] = {'Description': list(r.keys())[0], 'Resource': list(r.values())[0],\n",
    "    }\n",
    "    temp_df = pd.DataFrame.from_dict(temp_dict, orient='index')\n",
    "    temp_df.sort_values(by=['Resource','Description'],inplace=True, ascending = [True,True])\n",
    "    temp_df.reset_index(inplace=True,drop=True)\n",
    "    result_rows = []\n",
    "    for _,rowitem in temp_df.iterrows():\n",
    "        r = {}\n",
    "        des = rowitem['Description']\n",
    "        res = rowitem['Resource']\n",
    "        r[des] = res\n",
    "        result_rows.append(r)\n",
    "    return result_rows"
   ]
  },
  {
   "cell_type": "code",
   "execution_count": null,
   "id": "c0e43fe5",
   "metadata": {},
   "outputs": [],
   "source": [
    "# for key, valueitems in data.items():\n",
    "#     print(key)\n",
    "#     perms = []\n",
    "#     for items in valueitems:\n",
    "#         perms.append({\"Description\":list(items.keys())[0],\"Resource\":list(items.values())[0]})\n",
    "#     print(perms)\n",
    "#     perms.sort(reverse=True, key=lambda x: x['Resource'])\n",
    "#     print(perms)\n",
    "#     break\n",
    "\n",
    "for key, valueitems in data.items():\n",
    "    print(key)\n",
    "    print(valueitems)\n",
    "    if len(valueitems):\n",
    "        result = create_table(valueitems)\n",
    "        print(result)\n",
    "#     break"
   ]
  },
  {
   "cell_type": "code",
   "execution_count": 81,
   "id": "5801c127",
   "metadata": {},
   "outputs": [
    {
     "data": {
      "text/plain": [
       "\"['dictionary_item_added'], [['wba12410e1qa11'],[2],['Storage Blob Data Owner'], ['wba12410e1qa13'],[2],['Storage Blob Data Owner'], ['wba12410e1qa15'],[3],['Storage Blob Data Owner']], 'dictionary_item_removed'], [['wba12410e1qa11'],[2],['Azure Service Bus Data Sender'], ['wba12410e1qa13'],[2],['Azure Service Bus Data Sender'], ['wba12410e1qa15'],[3],['Azure Service Bus Data Sender']], 'values_changed'], [['wba12410e1qa15'],[4],['Azure Service Bus Data Sender'], ['new_value'], 'sb12410e1qa02', 'old_value'], 'sb12410e1qa03']], 'iterable_item_added'], [['wba12410e1qa11'],[3], ['Azure Service Bus Data Sender'], 'sb12410e1qa03'], '['wba12410e1qa13'],[3], ['Azure Service Bus Data Sender'], 'sb12410e1qa03'], '['wba12410e1qa15'],[5], ['Azure Service Bus Data Sender'], 'sb12410e1qa03']]]\""
      ]
     },
     "execution_count": 81,
     "metadata": {},
     "output_type": "execute_result"
    }
   ],
   "source": [
    "data = r\"{'dictionary_item_added': [root['wba12410e1qa11'][2]['Storage Blob Data Owner'], root['wba12410e1qa13'][2]['Storage Blob Data Owner'], root['wba12410e1qa15'][3]['Storage Blob Data Owner']], 'dictionary_item_removed': [root['wba12410e1qa11'][2]['Azure Service Bus Data Sender'], root['wba12410e1qa13'][2]['Azure Service Bus Data Sender'], root['wba12410e1qa15'][3]['Azure Service Bus Data Sender']], 'values_changed': {'root['wba12410e1qa15'][4]['Azure Service Bus Data Sender']': {'new_value': 'sb12410e1qa02', 'old_value': 'sb12410e1qa03'}}, 'iterable_item_added': {'root['wba12410e1qa11'][3]': {'Azure Service Bus Data Sender': 'sb12410e1qa03'}, 'root['wba12410e1qa13'][3]': {'Azure Service Bus Data Sender': 'sb12410e1qa03'}, 'root['wba12410e1qa15'][5]': {'Azure Service Bus Data Sender': 'sb12410e1qa03'}}}\"\n",
    "data = data.replace(\"root\",\"\").replace(\"][\",\"],[\").replace(\"{\",\"[\").replace(\"}\",\"]\").replace(\"['[\",\"[[\").replace(\"]'\",\"]\")\n",
    "data = data.replace(\"']:\",\"'],\").replace(\"]:\",\"],\").replace(\"':\",\"'],\")\n",
    "data"
   ]
  },
  {
   "cell_type": "code",
   "execution_count": null,
   "id": "b57f78ad",
   "metadata": {},
   "outputs": [],
   "source": [
    "for i,j in data.items():\n",
    "    print(i)\n",
    "    print(j)"
   ]
  },
  {
   "cell_type": "code",
   "execution_count": null,
   "id": "c7a98184",
   "metadata": {},
   "outputs": [],
   "source": []
  }
 ],
 "metadata": {
  "kernelspec": {
   "display_name": "Python 3 (ipykernel)",
   "language": "python",
   "name": "python3"
  },
  "language_info": {
   "codemirror_mode": {
    "name": "ipython",
    "version": 3
   },
   "file_extension": ".py",
   "mimetype": "text/x-python",
   "name": "python",
   "nbconvert_exporter": "python",
   "pygments_lexer": "ipython3",
   "version": "3.8.7"
  }
 },
 "nbformat": 4,
 "nbformat_minor": 5
}
